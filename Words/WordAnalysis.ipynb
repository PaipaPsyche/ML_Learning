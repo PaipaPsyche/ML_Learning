{
 "cells": [
  {
   "cell_type": "code",
   "execution_count": 1,
   "metadata": {},
   "outputs": [
    {
     "name": "stderr",
     "output_type": "stream",
     "text": [
      "/home/david/anaconda3/lib/python3.6/importlib/_bootstrap.py:219: RuntimeWarning: numpy.dtype size changed, may indicate binary incompatibility. Expected 96, got 88\n",
      "  return f(*args, **kwds)\n"
     ]
    }
   ],
   "source": [
    "import numpy as np\n",
    "import matplotlib.pyplot as plt\n",
    "import pandas as pd\n",
    "import collections as cl"
   ]
  },
  {
   "cell_type": "code",
   "execution_count": 6,
   "metadata": {},
   "outputs": [],
   "source": [
    "vocales=[\"a\",\"e\",\"i\",\"o\",\"u\",\"á\",\"é\",\"í\",\"ó\",\"ú\"]\n",
    "acentos=[\"á\",\"é\",\"í\",\"ó\",\"ú\"]\n",
    "cerradas=[\"i\",\"u\",\"í\",\"ú\"]\n",
    "\n",
    "buscadas=[\"e\",\"a\",\"o\",\"s\",\"r\",\"n\",\"j\",\"m\",\"k\",\"w\"]\n",
    "\n",
    "def valores_basicos(pal):\n",
    "    pal=pal.lower()\n",
    "    l=list(pal)\n",
    "    n_letras=len(l)\n",
    "    v=[(x in vocales) for x in l]\n",
    "    \n",
    "    #numero de consonantes y vocales\n",
    "    vocal=int(np.sum(np.ones(n_letras)[v]))\n",
    "    cons=n_letras-vocal\n",
    "    \n",
    "    \n",
    "    l_voc=np.array(l)[np.array(v)]\n",
    "    l_vocales=[(x in cerradas) for x in l_voc]\n",
    "    \n",
    "    n_abiertas=0\n",
    "    n_cerradas=0\n",
    "    if(vocal!=0):\n",
    "        n_abiertas=int(np.sum(np.ones(len(l_vocales))[np.array(l_vocales)]))\n",
    "        n_cerradas=vocal-n_abiertas\n",
    "    \n",
    "    \n",
    "    vals=np.zeros(n_letras)\n",
    "    vals[v]=1\n",
    "    vals[np.logical_not(v)]=-1\n",
    "    \n",
    "    #Parametros de alineacion y de constantes\n",
    "    \n",
    "    param_al=0\n",
    "    param_cons=0\n",
    "    repetidas=0\n",
    "    acento=0\n",
    "    \n",
    "    mid=int(n_letras/2)\n",
    "    MIT_A=0\n",
    "    MIT_B=0\n",
    "    \n",
    "    for i in range(n_letras-1):\n",
    "        param_al+=-vals[i]*vals[i+1]\n",
    "        if(l[i]==l[i+1]):\n",
    "            repetidas+=1\n",
    "    for i in range(n_letras):\n",
    "        if(l[i] in acentos):\n",
    "            acento+=1\n",
    "            if(i<=mid):\n",
    "                MIT_A=1\n",
    "            else:\n",
    "                MIT_B=1\n",
    "        param_cons+=vals[i]*i\n",
    "        \n",
    "    # conteos\n",
    "    CONT={}\n",
    "    for let in buscadas:\n",
    "        CONT[let]=l.count(let)\n",
    "        \n",
    "        \n",
    "        \n",
    "        \n",
    "    \n",
    "    # n_letras,acento,ace_i,ace_f, n vocales,n abiertas,n cerradas,n repetidas n consonantes,param alineacion, param constantes,empieza en vocal ,termina en vocal\n",
    "    return CONT,int(n_letras),int(acento),int(MIT_A),int(MIT_B),int(vocal),int(n_abiertas),int(n_cerradas),int(repetidas),int(cons),int(param_al),int(param_cons),int(l[0] in vocales),int(l[-1] in vocales)\n",
    "        "
   ]
  },
  {
   "cell_type": "code",
   "execution_count": 7,
   "metadata": {},
   "outputs": [
    {
     "data": {
      "text/plain": [
       "({'e': 0,\n",
       "  'a': 1,\n",
       "  'o': 0,\n",
       "  's': 0,\n",
       "  'r': 1,\n",
       "  'n': 0,\n",
       "  'j': 0,\n",
       "  'm': 1,\n",
       "  'k': 0,\n",
       "  'w': 0},\n",
       " 6,\n",
       " 0,\n",
       " 0,\n",
       " 0,\n",
       " 2,\n",
       " 1,\n",
       " 1,\n",
       " 0,\n",
       " 4,\n",
       " 1,\n",
       " -3,\n",
       " 0,\n",
       " 1)"
      ]
     },
     "execution_count": 7,
     "metadata": {},
     "output_type": "execute_result"
    }
   ],
   "source": [
    "valores_basicos(\"marylu\")"
   ]
  },
  {
   "cell_type": "markdown",
   "metadata": {},
   "source": [
    "# Calsificación "
   ]
  },
  {
   "cell_type": "code",
   "execution_count": 8,
   "metadata": {},
   "outputs": [],
   "source": [
    "characs_add=\"palabra,nlet,acen,ace_i,ace_f,voc,v_op,v_cl,repet,cons,p_alin,p_cons,v_ini,v_fin\"\n",
    "characs_cont=\"\"\n",
    "for b in buscadas:\n",
    "    characs_cont=characs_cont+\",cont_\"+b\n",
    "characs=characs_add+characs_cont\n",
    "def read_word(pal):\n",
    "    if(pal in ERR):\n",
    "        print(\"error\")\n",
    "    else:\n",
    "        CN,nlt,ac,aci,acf,vo,vop,vcl,re,co,pa,pc,vi,vf=valores_basicos(pal)\n",
    "        str_cnt=\"\"\n",
    "        for b in buscadas:\n",
    "            str_cnt=str_cnt+\",\"+str(int(CN[b]))\n",
    "            \n",
    "        \n",
    "    return pal+\",\"+str(nlt)+\",\"+str(ac)+\",\"+str(aci)+\",\"+str(acf)+\",\"+str(vo)+\",\"+str(vop)+\",\"+str(vcl)+\",\"+str(re)+\",\"+str(co)+\",\"+str(pa)+\",\"+str(pc)+\",\"+str(vi)+\",\"+str(vf)+str_cnt+\"\\n\""
   ]
  },
  {
   "cell_type": "code",
   "execution_count": 9,
   "metadata": {
    "scrolled": true
   },
   "outputs": [],
   "source": [
    "data=pd.read_csv(\"listado.txt\",header=None)\n",
    "A=data[0].values\n",
    "fname=\"palabras_clasificacion.csv\"\n",
    "FILE=open(fname,\"w\")\n",
    "FILE.write(characs+\"\\n\")\n",
    "ERR=[\" \",\"\"]\n",
    "for p in range (len(A)):\n",
    "    pal=A[p]\n",
    "    FILE.write(read_word(pal))\n",
    "FILE.close()"
   ]
  },
  {
   "cell_type": "code",
   "execution_count": 10,
   "metadata": {},
   "outputs": [],
   "source": [
    "\n",
    "\n",
    "data_n=pd.read_csv('nombres.txt', sep='|' ,header=None ,encoding='latin-1')\n",
    "A=data_n[0].values\n",
    "\n",
    "fname=\"nombres_clasificacion.csv\"\n",
    "FILE=open(fname,\"w\")\n",
    "FILE.write(characs+\"\\n\")\n",
    "ERR=[\" \",\"\"]\n",
    "for p in range (len(A)):\n",
    "    pal=A[p]\n",
    "    FILE.write(read_word(pal))\n",
    "FILE.close()"
   ]
  },
  {
   "cell_type": "code",
   "execution_count": 11,
   "metadata": {},
   "outputs": [],
   "source": [
    "def val_word(pal):\n",
    "    if(pal in ERR):\n",
    "        print(\"error\")\n",
    "    else:\n",
    "        CN,nlt,ac,aci,acf,vo,vop,vcl,re,co,pa,pc,vi,vf=valores_basicos(pal)\n",
    "        str_cnt=\"\"\n",
    "        for b in buscadas:\n",
    "            str_cnt=str_cnt+\",\"+str(int(CN[b]))\n",
    "            \n",
    "        \n",
    "        print(str(nlt)+\",\"+str(ac)+\",\"+str(aci)+\",\"+\n",
    "                   str(acf)+\",\"+str(vo)+\",\"+str(vop)+\",\"+str(vcl)+\",\"+\n",
    "                   str(re)+\",\"+str(co)+\",\"+str(pa)+\",\"+str(pc)+\",\"+\n",
    "                   str(vi)+\",\"+str(vf)+str_cnt+\"\\n\")\n"
   ]
  },
  {
   "cell_type": "code",
   "execution_count": 16,
   "metadata": {
    "scrolled": true
   },
   "outputs": [
    {
     "name": "stdout",
     "output_type": "stream",
     "text": [
      "9,0,0,0,4,1,3,0,5,2,-4,0,1,0,3,0,0,1,0,0,1,0,0\n",
      "\n"
     ]
    }
   ],
   "source": [
    "val_word(\"diafragma\")"
   ]
  },
  {
   "cell_type": "code",
   "execution_count": null,
   "metadata": {},
   "outputs": [],
   "source": []
  },
  {
   "cell_type": "code",
   "execution_count": null,
   "metadata": {},
   "outputs": [],
   "source": []
  },
  {
   "cell_type": "code",
   "execution_count": null,
   "metadata": {},
   "outputs": [],
   "source": []
  },
  {
   "cell_type": "code",
   "execution_count": null,
   "metadata": {},
   "outputs": [],
   "source": []
  },
  {
   "cell_type": "code",
   "execution_count": null,
   "metadata": {},
   "outputs": [],
   "source": []
  },
  {
   "cell_type": "code",
   "execution_count": null,
   "metadata": {},
   "outputs": [],
   "source": []
  }
 ],
 "metadata": {
  "kernelspec": {
   "display_name": "Python 3",
   "language": "python",
   "name": "python3"
  },
  "language_info": {
   "codemirror_mode": {
    "name": "ipython",
    "version": 3
   },
   "file_extension": ".py",
   "mimetype": "text/x-python",
   "name": "python",
   "nbconvert_exporter": "python",
   "pygments_lexer": "ipython3",
   "version": "3.6.5"
  }
 },
 "nbformat": 4,
 "nbformat_minor": 2
}
